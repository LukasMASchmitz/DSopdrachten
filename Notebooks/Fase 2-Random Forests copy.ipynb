{
 "cells": [
  {
   "cell_type": "code",
   "execution_count": 1,
   "metadata": {},
   "outputs": [
    {
     "name": "stdout",
     "output_type": "stream",
     "text": [
      "Mean Squared Error: 3.9437432075497787\n",
      "R-squared: 0.9985278429170505\n"
     ]
    }
   ],
   "source": [
    "#Regular\n",
    "\n",
    "import pandas as pd\n",
    "from sklearn.model_selection import train_test_split, GridSearchCV\n",
    "from sklearn.ensemble import RandomForestRegressor\n",
    "from sklearn.metrics import mean_squared_error, r2_score\n",
    "from sklearn.preprocessing import StandardScaler\n",
    "from sklearn.pipeline import Pipeline\n",
    "\n",
    "# Laad de data\n",
    "data = pd.read_csv('UniversalBank.csv')\n",
    "\n",
    "# Gebruik een kleiner deel van de data voor prestaties\n",
    "data_subset = data.sample(frac=0.02, random_state=42)\n",
    "\n",
    "# Verwijder kolommen zonder nuttige data\n",
    "X = data_subset.drop(columns=['ID', 'ZIP Code'])\n",
    "y = data_subset['Income']\n",
    "\n",
    "# Split de data in train en test\n",
    "X_train, X_test, y_train, y_test = train_test_split(X, y, test_size=0.2, random_state=42)\n",
    "\n",
    "# Definieer een pipeline\n",
    "simple_model = Pipeline([\n",
    "    ('scaler', StandardScaler()),\n",
    "    ('rf', RandomForestRegressor())\n",
    "])\n",
    "\n",
    "# Definieer de parameter grid\n",
    "param_grid = {\n",
    "    'rf__n_estimators': [50, 100, 200],\n",
    "    'rf__max_depth': [None, 5, 10],\n",
    "    'rf__min_samples_split': [2, 5, 10]\n",
    "}\n",
    "\n",
    "# Maak een GridSearchCV object\n",
    "grid_search = GridSearchCV(simple_model, param_grid, cv=3, scoring='neg_mean_squared_error')\n",
    "\n",
    "# Pas het object toe op de data\n",
    "grid_search.fit(X_train, y_train)\n",
    "\n",
    "# Haal de beste parameters en het beste model op\n",
    "best_params = grid_search.best_params_\n",
    "best_model = grid_search.best_estimator_\n",
    "\n",
    "# Voorspel voor test data\n",
    "y_pred = best_model.predict(X_test)\n",
    "\n",
    "# Evaluatiemetrics\n",
    "mse = mean_squared_error(y_test, y_pred)\n",
    "r2 = r2_score(y_test, y_pred)\n",
    "print(f'Mean Squared Error: {mse}')\n",
    "print(f'R-squared: {r2}')\n"
   ]
  },
  {
   "cell_type": "code",
   "execution_count": 2,
   "metadata": {},
   "outputs": [
    {
     "name": "stdout",
     "output_type": "stream",
     "text": [
      "Mean Squared Error: 2.224247348659514\n",
      "R-squared: 0.999169712297116\n"
     ]
    }
   ],
   "source": [
    "#Extremely randomized Trees\n",
    "\n",
    "import pandas as pd\n",
    "from sklearn.model_selection import train_test_split, RandomizedSearchCV\n",
    "from sklearn.ensemble import ExtraTreesRegressor\n",
    "from sklearn.metrics import mean_squared_error, r2_score\n",
    "from sklearn.preprocessing import StandardScaler\n",
    "from sklearn.pipeline import Pipeline\n",
    "from scipy.stats import randint\n",
    "\n",
    "# Laad de data\n",
    "data = pd.read_csv('UniversalBank.csv')\n",
    "\n",
    "# Gebruik een kleiner deel van de data voor prestaties\n",
    "data_subset = data.sample(frac=0.02, random_state=42)\n",
    "\n",
    "# Verwijder kolommen zonder nuttige data\n",
    "X = data_subset.drop(columns=['ID', 'ZIP Code'])\n",
    "y = data_subset['Income']\n",
    "\n",
    "# Split de data in train en test\n",
    "X_train, X_test, y_train, y_test = train_test_split(X, y, test_size=0.2, random_state=42)\n",
    "\n",
    "# Definieer een pipeline\n",
    "simple_model = Pipeline([\n",
    "    ('scaler', StandardScaler()),\n",
    "    ('etr', ExtraTreesRegressor())\n",
    "])\n",
    "\n",
    "# Definieer de parameterdistributie\n",
    "param_dist = {\n",
    "    'etr__n_estimators': randint(50, 200),\n",
    "    'etr__max_depth': [None, 5, 10],\n",
    "    'etr__min_samples_split': randint(2, 10)\n",
    "}\n",
    "\n",
    "# Maak een RandomizedSearchCV object\n",
    "random_search = RandomizedSearchCV(simple_model, param_dist, n_iter=50, cv=3, scoring='neg_mean_squared_error', random_state=42)\n",
    "\n",
    "# Pas het object toe op de data\n",
    "random_search.fit(X_train, y_train)\n",
    "\n",
    "# Haal de beste parameters en het beste model op\n",
    "best_params = random_search.best_params_\n",
    "best_model = random_search.best_estimator_\n",
    "\n",
    "# Voorspel voor test data\n",
    "y_pred = best_model.predict(X_test)\n",
    "\n",
    "# Evaluatiemetrics\n",
    "mse = mean_squared_error(y_test, y_pred)\n",
    "r2 = r2_score(y_test, y_pred)\n",
    "print(f'Mean Squared Error: {mse}')\n",
    "print(f'R-squared: {r2}')\n"
   ]
  }
 ],
 "metadata": {
  "kernelspec": {
   "display_name": "Python 3",
   "language": "python",
   "name": "python3"
  },
  "language_info": {
   "codemirror_mode": {
    "name": "ipython",
    "version": 3
   },
   "file_extension": ".py",
   "mimetype": "text/x-python",
   "name": "python",
   "nbconvert_exporter": "python",
   "pygments_lexer": "ipython3",
   "version": "3.11.5"
  }
 },
 "nbformat": 4,
 "nbformat_minor": 2
}
