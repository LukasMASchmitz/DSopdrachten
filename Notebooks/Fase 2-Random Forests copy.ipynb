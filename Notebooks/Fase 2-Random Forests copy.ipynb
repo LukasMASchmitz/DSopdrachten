{
 "cells": [
  {
   "cell_type": "code",
   "execution_count": 1,
   "metadata": {},
   "outputs": [
    {
     "name": "stdout",
     "output_type": "stream",
     "text": [
      "Mean Squared Error: 4.5729407005903754e-05\n",
      "R-squared: 0.9999999829297024\n"
     ]
    }
   ],
   "source": [
    "import pandas as pd\n",
    "from sklearn.model_selection import train_test_split, GridSearchCV\n",
    "from sklearn.svm import SVR\n",
    "from sklearn.metrics import mean_squared_error, r2_score\n",
    "from sklearn.preprocessing import StandardScaler\n",
    "from sklearn.pipeline import Pipeline\n",
    "\n",
    "# Load the data\n",
    "data = pd.read_csv('UniversalBank.csv')\n",
    "\n",
    "# Use a smaller subset of the data\n",
    "data_subset = data.sample(frac=0.02, random_state=42)  # Reduced to 2%\n",
    "\n",
    "# Drop the columns that do not contain useful information\n",
    "X = data_subset.drop(columns=['ID', 'ZIP Code'])\n",
    "y = data_subset['Income']\n",
    "\n",
    "# Split data into train and test\n",
    "X_train, X_test, y_train, y_test = train_test_split(X, y, test_size=0.2, random_state=42)\n",
    "\n",
    "# Define a simpler pipeline without polynomial features\n",
    "simple_model = Pipeline([\n",
    "    ('scaler', StandardScaler()),  # Scaling features to improve performance\n",
    "    ('svr', SVR(kernel='linear'))  # Using only linear kernel for simplicity\n",
    "])\n",
    "\n",
    "# Define the parameter grid for SVR\n",
    "param_grid = {\n",
    "    'svr__C': [0.1, 1, 10],  # Simplified range\n",
    "    'svr__epsilon': [0.01, 0.1, 1]  # Simplified range\n",
    "}\n",
    "\n",
    "# Create a GridSearchCV object with reduced cross-validation folds\n",
    "grid_search = GridSearchCV(simple_model, param_grid, cv=3, scoring='neg_mean_squared_error')  # Reduced cv to 3\n",
    "\n",
    "# Fit the GridSearchCV object to the data\n",
    "grid_search.fit(X_train, y_train)\n",
    "\n",
    "# Get the best parameters and the best model\n",
    "best_params = grid_search.best_params_\n",
    "best_model = grid_search.best_estimator_\n",
    "\n",
    "# Predict on the test data using the best model\n",
    "y_pred = best_model.predict(X_test)\n",
    "\n",
    "# Calculate the evaluation metrics\n",
    "mse = mean_squared_error(y_test, y_pred)\n",
    "r2 = r2_score(y_test, y_pred)\n",
    "print(f'Mean Squared Error: {mse}')\n",
    "print(f'R-squared: {r2}')\n"
   ]
  }
 ],
 "metadata": {
  "kernelspec": {
   "display_name": "Python 3",
   "language": "python",
   "name": "python3"
  },
  "language_info": {
   "codemirror_mode": {
    "name": "ipython",
    "version": 3
   },
   "file_extension": ".py",
   "mimetype": "text/x-python",
   "name": "python",
   "nbconvert_exporter": "python",
   "pygments_lexer": "ipython3",
   "version": "3.11.5"
  }
 },
 "nbformat": 4,
 "nbformat_minor": 2
}
