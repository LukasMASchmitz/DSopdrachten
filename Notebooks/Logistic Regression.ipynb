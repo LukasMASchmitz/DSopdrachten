{
 "cells": [
  {
   "cell_type": "code",
   "execution_count": 98,
   "metadata": {},
   "outputs": [
    {
     "name": "stdout",
     "output_type": "stream",
     "text": [
      "c:\\Users\\jordy\\Data science\\DSopdrachten\\Datasets/UniversalBank.csv\n"
     ]
    }
   ],
   "source": [
    "import pandas as pd\n",
    "import os\n",
    "import numpy as np\n",
    "from sklearn.preprocessing import StandardScaler\n",
    "from sklearn.model_selection import train_test_split\n",
    "from sklearn.linear_model import LinearRegression\n",
    "from sklearn.metrics import mean_squared_error, r2_score\n",
    "\n",
    "# Load the dataset\n",
    "absolute_path = (str(os.path.abspath('')))\n",
    "parent_path = os.path.dirname(absolute_path)\n",
    "relative_path = \"Datasets/UniversalBank.csv\"\n",
    "dataset_path = os.path.join(parent_path, relative_path)\n",
    "print(dataset_path)\n",
    "\n",
    "# Read the dataset\n",
    "df = pd.read_csv(dataset_path)\n",
    "\n",
    "#The goal for this logistic regression is to be able to\n",
    "#predict the Online property. The Online property is a qualitative variable\n",
    "#which has value 1 or 0. Where a 1 means that the person uses an online account, and a 0 means that the person does not.\n"
   ]
  },
  {
   "cell_type": "code",
   "execution_count": 93,
   "metadata": {},
   "outputs": [],
   "source": [
    "#Firstly, I will generate dummies for each qualitative column\n",
    "#For that we will need to identify the qualitative columns.\n",
    "\n",
    "qualitative_columns = ['Personal Loan','Securities Account','CD Account','Online','CreditCard']\n",
    "df_dummified = pd.get_dummies(df, columns=qualitative_columns)"
   ]
  },
  {
   "cell_type": "code",
   "execution_count": 94,
   "metadata": {},
   "outputs": [],
   "source": [
    "#Secondly, I will Standardize the numerical columns, I have chosen standardization instead of normalization because it visualises outliers better\n",
    "# and because it is better suited for regression.\n",
    "#For that I will first need to identify the numerical columns.\n",
    "\n",
    "numerical_columns = df_dummified.select_dtypes(include=['int64', 'float64']).columns\n",
    "scaler = StandardScaler()\n",
    "df_dummified[numerical_columns] = scaler.fit_transform(df_dummified[list(numerical_columns)])"
   ]
  },
  {
   "cell_type": "code",
   "execution_count": 99,
   "metadata": {},
   "outputs": [],
   "source": [
    "#Thirdly, I will drop the ID column, since it adds no statistical value for analysis.\n",
    "df_cleaned = df_dummified.drop(columns=['ID'])"
   ]
  }
 ],
 "metadata": {
  "kernelspec": {
   "display_name": "Python 3",
   "language": "python",
   "name": "python3"
  },
  "language_info": {
   "codemirror_mode": {
    "name": "ipython",
    "version": 3
   },
   "file_extension": ".py",
   "mimetype": "text/x-python",
   "name": "python",
   "nbconvert_exporter": "python",
   "pygments_lexer": "ipython3",
   "version": "3.9.15"
  }
 },
 "nbformat": 4,
 "nbformat_minor": 2
}
