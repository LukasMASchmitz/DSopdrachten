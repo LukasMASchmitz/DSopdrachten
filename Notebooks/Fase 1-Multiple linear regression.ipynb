{
 "cells": [
  {
   "cell_type": "code",
   "execution_count": 13,
   "metadata": {},
   "outputs": [
    {
     "name": "stdout",
     "output_type": "stream",
     "text": [
      "Mean Squared Error: 195.12709618035697\n",
      "R-squared: 0.7639112642219437\n"
     ]
    }
   ],
   "source": [
    "#ordinary least squares\n",
    "\n",
    "import pandas as pd\n",
    "from sklearn.model_selection import train_test_split\n",
    "from sklearn.linear_model import LinearRegression\n",
    "from sklearn.metrics import mean_squared_error, r2_score\n",
    "from sklearn.preprocessing import PolynomialFeatures\n",
    "from sklearn.pipeline import Pipeline\n",
    "\n",
    "data = pd.read_csv('BostonHousing.csv')\n",
    "\n",
    "X = data.drop(columns=['AGE'])\n",
    "y = data['AGE']\n",
    "\n",
    "# Split data in train en test\n",
    "X_train, X_test, y_train, y_test = train_test_split(X, y, test_size=0.2, random_state=42)\n",
    "\n",
    "# Definieer een pipeline met PolynomialFeatures en LinearRegression\n",
    "polynomial_model = Pipeline([\n",
    "    ('poly', PolynomialFeatures(degree=2)),\n",
    "    ('linear', LinearRegression())\n",
    "])\n",
    "\n",
    "# Train het model\n",
    "polynomial_model.fit(X_train, y_train)\n",
    "\n",
    "# Voorspel op de test data\n",
    "y_pred = polynomial_model.predict(X_test)\n",
    "\n",
    "# Bereken de evaluatiemetrics\n",
    "mse = mean_squared_error(y_test, y_pred)\n",
    "r2 = r2_score(y_test, y_pred)\n",
    "print(f'Mean Squared Error: {mse}')\n",
    "print(f'R-squared: {r2}')"
   ]
  },
  {
   "cell_type": "code",
   "execution_count": 14,
   "metadata": {},
   "outputs": [
    {
     "name": "stdout",
     "output_type": "stream",
     "text": [
      "Beste parameters: {'alpha': 0.01}\n",
      "Mean Squared Error: 248.81590965435387\n",
      "R-squared: 0.6989519410596498\n"
     ]
    }
   ],
   "source": [
    "#lasso regression\n",
    "\n",
    "import pandas as pd\n",
    "import os\n",
    "from sklearn.model_selection import train_test_split, GridSearchCV\n",
    "from sklearn.linear_model import Lasso\n",
    "from sklearn.metrics import mean_squared_error, r2_score\n",
    "\n",
    "# Laad dataset\n",
    "data = pd.read_csv(\"BostonHousing.csv\")\n",
    "\n",
    "# Definieer features en target\n",
    "X = data.drop(columns=['AGE'])\n",
    "y = data['AGE']\n",
    "\n",
    "# Split de data in training en test sets\n",
    "X_train, X_test, y_train, y_test = train_test_split(X, y, test_size=0.2, random_state=42)\n",
    "\n",
    "lasso_model = Lasso()\n",
    "\n",
    "# parameter grid voor GridSearch\n",
    "param_grid = {\n",
    "    'alpha': [0.01, 0.1, 1, 10, 100]\n",
    "}\n",
    "\n",
    "# Definieer GridSearchCV\n",
    "grid_search = GridSearchCV(estimator=lasso_model, param_grid=param_grid, cv=5, scoring='neg_mean_squared_error')\n",
    "\n",
    "# Pas GridSearch toe op de training data\n",
    "grid_search.fit(X_train, y_train)\n",
    "\n",
    "# Haal de beste parameters op\n",
    "best_params = grid_search.best_params_\n",
    "print(f'Beste parameters: {best_params}')\n",
    "\n",
    "# Train het model opnieuw met de beste parameters\n",
    "best_lasso_model = grid_search.best_estimator_\n",
    "best_lasso_model.fit(X_train, y_train)\n",
    "\n",
    "# Voorspel op de test data\n",
    "y_pred = best_lasso_model.predict(X_test)\n",
    "\n",
    "# Bereken de evaluatiemetrics\n",
    "mse = mean_squared_error(y_test, y_pred)\n",
    "r2 = r2_score(y_test, y_pred)\n",
    "print(f'Mean Squared Error: {mse}')\n",
    "print(f'R-squared: {r2}')\n"
   ]
  },
  {
   "cell_type": "code",
   "execution_count": 15,
   "metadata": {},
   "outputs": [
    {
     "name": "stdout",
     "output_type": "stream",
     "text": [
      "Beste parameters: {'alpha': 0.1}\n",
      "Mean Squared Error: 249.42544444054906\n",
      "R-squared: 0.6982144509831687\n"
     ]
    }
   ],
   "source": [
    "#ridge regression\n",
    "\n",
    "import pandas as pd\n",
    "from sklearn.model_selection import train_test_split, GridSearchCV\n",
    "from sklearn.linear_model import Ridge\n",
    "from sklearn.metrics import mean_squared_error, r2_score\n",
    "\n",
    "data = pd.read_csv('BostonHousing.csv')\n",
    "\n",
    "# Definieer features en target\n",
    "X = data.drop(columns=['AGE'])\n",
    "y = data['AGE']\n",
    "\n",
    "# Split de data in training en test\n",
    "X_train, X_test, y_train, y_test = train_test_split(X, y, test_size=0.2, random_state=42)\n",
    "\n",
    "# Definieer het model\n",
    "ridge_model = Ridge()\n",
    "\n",
    "# Definieer het parameter grid voor GridSearch\n",
    "param_grid = {\n",
    "    'alpha': [0.01, 0.1, 1, 10, 100]\n",
    "}\n",
    "\n",
    "# Definieer GridSearchCV\n",
    "grid_search = GridSearchCV(estimator=ridge_model, param_grid=param_grid, cv=5, scoring='neg_mean_squared_error')\n",
    "\n",
    "# Pas GridSearch toe op de training data\n",
    "grid_search.fit(X_train, y_train)\n",
    "\n",
    "# Haal de beste parameters op\n",
    "best_params = grid_search.best_params_\n",
    "print(f'Beste parameters: {best_params}')\n",
    "\n",
    "# Train het model opnieuw met de beste parameters\n",
    "best_ridge_model = grid_search.best_estimator_\n",
    "best_ridge_model.fit(X_train, y_train)\n",
    "\n",
    "# Voorspel op de test data\n",
    "y_pred = best_ridge_model.predict(X_test)\n",
    "\n",
    "# Bereken de metrics\n",
    "mse = mean_squared_error(y_test, y_pred)\n",
    "r2 = r2_score(y_test, y_pred)\n",
    "print(f'Mean Squared Error: {mse}')\n",
    "print(f'R-squared: {r2}')\n"
   ]
  }
 ],
 "metadata": {
  "kernelspec": {
   "display_name": "Python 3",
   "language": "python",
   "name": "python3"
  },
  "language_info": {
   "codemirror_mode": {
    "name": "ipython",
    "version": 3
   },
   "file_extension": ".py",
   "mimetype": "text/x-python",
   "name": "python",
   "nbconvert_exporter": "python",
   "pygments_lexer": "ipython3",
   "version": "3.11.5"
  }
 },
 "nbformat": 4,
 "nbformat_minor": 2
}
