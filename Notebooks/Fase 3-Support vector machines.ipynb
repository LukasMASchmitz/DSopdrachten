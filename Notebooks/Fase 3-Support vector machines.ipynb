{
 "cells": [
  {
   "cell_type": "code",
   "execution_count": 4,
   "metadata": {},
   "outputs": [
    {
     "name": "stdout",
     "output_type": "stream",
     "text": [
      "Accuracy: 0.891\n"
     ]
    }
   ],
   "source": [
    "#linear \n",
    "\n",
    "import pandas as pd\n",
    "from sklearn.model_selection import train_test_split, RandomizedSearchCV\n",
    "from sklearn.svm import SVC\n",
    "from sklearn.metrics import accuracy_score\n",
    "from sklearn.preprocessing import StandardScaler\n",
    "from sklearn.pipeline import Pipeline\n",
    "from scipy.stats import uniform\n",
    "\n",
    "# Laad de data\n",
    "data = pd.read_csv('UniversalBank.csv')\n",
    "\n",
    "# Gebruik een kleiner deel van de data voor hyperparameter optimalisatie\n",
    "data_subset = data.sample(frac=0.02, random_state=42)  # Verkleind tot 2%\n",
    "\n",
    "# Verwijder de kolommen die geen nuttige informatie bevatten\n",
    "X_subset = data_subset.drop(columns=['ID', 'ZIP Code', 'Personal Loan'])  \n",
    "y_subset = data_subset['Personal Loan'] \n",
    "\n",
    "# Split de data in train en test voor hyperparameter optimalisatie\n",
    "X_train_subset, X_test_subset, y_train_subset, y_test_subset = train_test_split(X_subset, y_subset, test_size=0.2, random_state=42)\n",
    "\n",
    "# Definieer een pipeline met StandardScaler en SVC\n",
    "model = Pipeline([\n",
    "    ('scaler', StandardScaler()),  \n",
    "    ('svc', SVC())  \n",
    "])\n",
    "\n",
    "# Definieer de parameterdistributie voor SVC\n",
    "param_dist = {\n",
    "    'svc__C': uniform(0.1, 10),\n",
    "    'svc__kernel': ['linear', 'rbf', 'poly'],\n",
    "    'svc__gamma': ['scale', 'auto']\n",
    "}\n",
    "\n",
    "# Maak een RandomizedSearchCV object met minder iteraties en minder cross-validatie vouwen\n",
    "random_search = RandomizedSearchCV(model, param_dist, n_iter=5, cv=2, scoring='accuracy', random_state=42)\n",
    "\n",
    "# Pas het RandomizedSearchCV object toe op de data subset\n",
    "random_search.fit(X_train_subset, y_train_subset)\n",
    "\n",
    "# Haal de beste parameters en het beste model op\n",
    "best_params = random_search.best_params_\n",
    "best_model = random_search.best_estimator_\n",
    "\n",
    "# Gebruik de volledige dataset voor de uiteindelijke evaluatie\n",
    "X = data.drop(columns=['ID', 'ZIP Code', 'Personal Loan'])\n",
    "y = data['Personal Loan']\n",
    "\n",
    "# Voorspel op de test data met het beste model\n",
    "y_pred = best_model.predict(X)\n",
    "\n",
    "# Bereken de algemene evaluatiemetric\n",
    "accuracy = accuracy_score(y, y_pred)\n",
    "print(f'Accuracy: {accuracy}')\n"
   ]
  },
  {
   "cell_type": "code",
   "execution_count": 6,
   "metadata": {},
   "outputs": [
    {
     "name": "stdout",
     "output_type": "stream",
     "text": [
      "Accuracy: 0.9278\n"
     ]
    }
   ],
   "source": [
    "#non linear\n",
    "\n",
    "import pandas as pd\n",
    "from sklearn.model_selection import train_test_split, RandomizedSearchCV\n",
    "from sklearn.svm import SVC\n",
    "from sklearn.metrics import accuracy_score\n",
    "from sklearn.preprocessing import StandardScaler\n",
    "from sklearn.pipeline import Pipeline\n",
    "from scipy.stats import uniform, randint\n",
    "\n",
    "# Laad de data\n",
    "data = pd.read_csv('UniversalBank.csv')\n",
    "\n",
    "# Gebruik een kleiner deel van de data voor hyperparameter optimalisatie\n",
    "data_subset = data.sample(frac=0.02, random_state=42)  # Verkleind tot 2%\n",
    "\n",
    "# Verwijder de kolommen die geen nuttige informatie bevatten\n",
    "X_subset = data_subset.drop(columns=['ID', 'ZIP Code', 'Personal Loan']) \n",
    "y_subset = data_subset['Personal Loan'] \n",
    "\n",
    "# Split de data in train en test voor hyperparameter optimalisatie\n",
    "X_train_subset, X_test_subset, y_train_subset, y_test_subset = train_test_split(X_subset, y_subset, test_size=0.2, random_state=42)\n",
    "\n",
    "# Definieer een pipeline met StandardScaler en SVC\n",
    "model = Pipeline([\n",
    "    ('scaler', StandardScaler()),  \n",
    "    ('svc', SVC(kernel='rbf'))  \n",
    "])\n",
    "\n",
    "# Definieer de parameterdistributie voor SVC\n",
    "param_dist = {\n",
    "    'svc__C': uniform(0.1, 10),\n",
    "    'svc__gamma': ['scale', 'auto']\n",
    "}\n",
    "\n",
    "# Maak een RandomizedSearchCV object met minder iteraties en minder cross-validatie vouwen\n",
    "random_search = RandomizedSearchCV(model, param_dist, n_iter=5, cv=2, scoring='accuracy', random_state=42)\n",
    "\n",
    "# Pas het RandomizedSearchCV object toe op de data subset\n",
    "random_search.fit(X_train_subset, y_train_subset)\n",
    "\n",
    "# Haal de beste parameters en het beste model op\n",
    "best_params = random_search.best_params_\n",
    "best_model = random_search.best_estimator_\n",
    "\n",
    "# Gebruik de volledige dataset voor de uiteindelijke evaluatie\n",
    "X = data.drop(columns=['ID', 'ZIP Code', 'Personal Loan'])\n",
    "y = data['Personal Loan']\n",
    "\n",
    "# Voorspel op de test data met het beste model\n",
    "y_pred = best_model.predict(X)\n",
    "\n",
    "# Bereken de algemene evaluatiemetric\n",
    "accuracy = accuracy_score(y, y_pred)\n",
    "print(f'Accuracy: {accuracy}')\n"
   ]
  }
 ],
 "metadata": {
  "kernelspec": {
   "display_name": "Python 3",
   "language": "python",
   "name": "python3"
  },
  "language_info": {
   "codemirror_mode": {
    "name": "ipython",
    "version": 3
   },
   "file_extension": ".py",
   "mimetype": "text/x-python",
   "name": "python",
   "nbconvert_exporter": "python",
   "pygments_lexer": "ipython3",
   "version": "3.11.5"
  }
 },
 "nbformat": 4,
 "nbformat_minor": 2
}
